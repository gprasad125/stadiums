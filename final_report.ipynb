{
 "cells": [
  {
   "cell_type": "markdown",
   "id": "c45bc052",
   "metadata": {},
   "source": [
    "# Analyzing Food Options Around U.S. Sports Stadiums"
   ]
  },
  {
   "cell_type": "markdown",
   "id": "99af72c7",
   "metadata": {},
   "source": [
    "## 1. Team\n",
    "Gokul Prasad (A15935807) & Aryaman Sinha (A15828821)"
   ]
  },
  {
   "cell_type": "markdown",
   "id": "025cf6c2",
   "metadata": {},
   "source": [
    "## 2. Questions Answered\n",
    "\n",
    "\n",
    "In this project, we look to analyze any patterns in the surrounding food options around U.S. stadiums.\n",
    "\n",
    "With our dataset, we have several lines of inquiry that we could pursue. We are interested in exploring the following questions:\n",
    "\n",
    "1. Are there “trends” as to the category of restaurants most commonly found per league?\n",
    "- We expect to find that there are regional differences (i.e., Southern cities would have more nearby places like barbecue, while coastal cities would have more seafood options) that reflect U.S. cultural differences; however, we do not expect to see league-based differences as many cities overlap between leagues (i.e., New York Jets (NFL) vs New York Knicks (NBA)).\n",
    "\n",
    "\n",
    "2. Which stadium contains the highest rated restaurants in its nearby zone?\n",
    "- We expect to find this city somewhere near a generally major U.S. cultural hub, as more diverse culinary options will likely improve the chances of finding higher amounts of well-rated restaurants. Therefore, we are expecting this to be in a NYC-based or Los-Angeles stadium, as those are the two most populous metropolitan areas in the country.\n",
    "\n",
    "3. Which league & stadium have the most diverse food options?\n",
    "- This one may be slightly trickier to answer, as we have to define what “diverse” means, but the general approach would be to use the category of restaurant,and see which league/stadium has the highest amount of unique categories. Again, like the previous question, we anticipate this to be in major U.S. cultural centers, so NYC or LA metro areas"
   ]
  },
  {
   "cell_type": "markdown",
   "id": "cac98158",
   "metadata": {},
   "source": [
    "## 3. Background & Literature"
   ]
  },
  {
   "cell_type": "markdown",
   "id": "420d8e5b",
   "metadata": {},
   "source": [
    "## 4. Python Modules / ArcGIS Features Used\n",
    "\n",
    "Some of the necessary Python packages we will use include:\n",
    "\n",
    "- `pandas`: We will use this package to help with data storage, cleaning, and initial visualization for summary statistics. \n",
    "- `geopandas`: Given that we have access to several Lat/Long coordinates, we can convert our `DataFrame` variables to `geoDataFrame` ones, and use the extensive functionality within the library to create geospatial visuals. "
   ]
  },
  {
   "cell_type": "code",
   "execution_count": 42,
   "id": "56c8abb8",
   "metadata": {},
   "outputs": [],
   "source": [
    "import pandas as pd\n",
    "import matplotlib.pyplot as plt\n",
    "import matplotlib as mpl"
   ]
  },
  {
   "cell_type": "markdown",
   "id": "f281a65b",
   "metadata": {},
   "source": [
    "## 5. Data Sources\n",
    "\n",
    "Our primary data source can be located [here](https://www.kaggle.com/datasets/xavier4t/sports-and-restaurants). The data was sourced programatically from the Yelp API and made publicly available on Kaggle. \n",
    "\n",
    "Some key notes:\n",
    "1. The data is pertinent to teams/stadiums belonging to one of the five biggest U.S. sports leagues: MLB (baseball), NFL (American football), NBA (Basketball), NHL (Ice hockey), and MLS (Soccer)\n",
    "2. The radius around each stadium is specifically 3000m (1.86mi)"
   ]
  },
  {
   "cell_type": "code",
   "execution_count": 43,
   "id": "6c11fd85",
   "metadata": {},
   "outputs": [
    {
     "data": {
      "text/html": [
       "<div>\n",
       "<style scoped>\n",
       "    .dataframe tbody tr th:only-of-type {\n",
       "        vertical-align: middle;\n",
       "    }\n",
       "\n",
       "    .dataframe tbody tr th {\n",
       "        vertical-align: top;\n",
       "    }\n",
       "\n",
       "    .dataframe thead th {\n",
       "        text-align: right;\n",
       "    }\n",
       "</style>\n",
       "<table border=\"1\" class=\"dataframe\">\n",
       "  <thead>\n",
       "    <tr style=\"text-align: right;\">\n",
       "      <th></th>\n",
       "      <th>name</th>\n",
       "      <th>rating</th>\n",
       "      <th>price</th>\n",
       "      <th>categories</th>\n",
       "      <th>latitude</th>\n",
       "      <th>longitude</th>\n",
       "      <th>league</th>\n",
       "      <th>team</th>\n",
       "      <th>stadium</th>\n",
       "      <th>team_latitude</th>\n",
       "      <th>team_longitude</th>\n",
       "    </tr>\n",
       "  </thead>\n",
       "  <tbody>\n",
       "    <tr>\n",
       "      <th>0</th>\n",
       "      <td>Oriole</td>\n",
       "      <td>5.0</td>\n",
       "      <td>4.0</td>\n",
       "      <td>newamerican</td>\n",
       "      <td>41.886097</td>\n",
       "      <td>-87.644948</td>\n",
       "      <td>NBA</td>\n",
       "      <td>Chicago Bulls</td>\n",
       "      <td>United Center</td>\n",
       "      <td>41.880556</td>\n",
       "      <td>-87.674167</td>\n",
       "    </tr>\n",
       "    <tr>\n",
       "      <th>1</th>\n",
       "      <td>Spinning J Bakery and Soda Fountain</td>\n",
       "      <td>4.5</td>\n",
       "      <td>2.0</td>\n",
       "      <td>coffee, breakfast_brunch, sandwiches</td>\n",
       "      <td>41.899450</td>\n",
       "      <td>-87.697160</td>\n",
       "      <td>NBA</td>\n",
       "      <td>Chicago Bulls</td>\n",
       "      <td>United Center</td>\n",
       "      <td>41.880556</td>\n",
       "      <td>-87.674167</td>\n",
       "    </tr>\n",
       "    <tr>\n",
       "      <th>2</th>\n",
       "      <td>S.K.Y.</td>\n",
       "      <td>4.5</td>\n",
       "      <td>3.0</td>\n",
       "      <td>newamerican, cocktailbars, wine_bars</td>\n",
       "      <td>41.857808</td>\n",
       "      <td>-87.658043</td>\n",
       "      <td>NBA</td>\n",
       "      <td>Chicago Bulls</td>\n",
       "      <td>United Center</td>\n",
       "      <td>41.880556</td>\n",
       "      <td>-87.674167</td>\n",
       "    </tr>\n",
       "    <tr>\n",
       "      <th>3</th>\n",
       "      <td>Kai Zan</td>\n",
       "      <td>4.5</td>\n",
       "      <td>3.0</td>\n",
       "      <td>asianfusion, japanese, sushi</td>\n",
       "      <td>41.895505</td>\n",
       "      <td>-87.691541</td>\n",
       "      <td>NBA</td>\n",
       "      <td>Chicago Bulls</td>\n",
       "      <td>United Center</td>\n",
       "      <td>41.880556</td>\n",
       "      <td>-87.674167</td>\n",
       "    </tr>\n",
       "    <tr>\n",
       "      <th>4</th>\n",
       "      <td>Sabroso! Mexican Grill</td>\n",
       "      <td>4.5</td>\n",
       "      <td>2.0</td>\n",
       "      <td>mexican, breakfast_brunch, newmexican</td>\n",
       "      <td>41.893190</td>\n",
       "      <td>-87.667530</td>\n",
       "      <td>NBA</td>\n",
       "      <td>Chicago Bulls</td>\n",
       "      <td>United Center</td>\n",
       "      <td>41.880556</td>\n",
       "      <td>-87.674167</td>\n",
       "    </tr>\n",
       "  </tbody>\n",
       "</table>\n",
       "</div>"
      ],
      "text/plain": [
       "                                  name  rating  price  \\\n",
       "0                               Oriole     5.0    4.0   \n",
       "1  Spinning J Bakery and Soda Fountain     4.5    2.0   \n",
       "2                               S.K.Y.     4.5    3.0   \n",
       "3                              Kai Zan     4.5    3.0   \n",
       "4               Sabroso! Mexican Grill     4.5    2.0   \n",
       "\n",
       "                              categories   latitude  longitude league  \\\n",
       "0                            newamerican  41.886097 -87.644948    NBA   \n",
       "1   coffee, breakfast_brunch, sandwiches  41.899450 -87.697160    NBA   \n",
       "2   newamerican, cocktailbars, wine_bars  41.857808 -87.658043    NBA   \n",
       "3           asianfusion, japanese, sushi  41.895505 -87.691541    NBA   \n",
       "4  mexican, breakfast_brunch, newmexican  41.893190 -87.667530    NBA   \n",
       "\n",
       "            team        stadium  team_latitude  team_longitude  \n",
       "0  Chicago Bulls  United Center      41.880556      -87.674167  \n",
       "1  Chicago Bulls  United Center      41.880556      -87.674167  \n",
       "2  Chicago Bulls  United Center      41.880556      -87.674167  \n",
       "3  Chicago Bulls  United Center      41.880556      -87.674167  \n",
       "4  Chicago Bulls  United Center      41.880556      -87.674167  "
      ]
     },
     "execution_count": 43,
     "metadata": {},
     "output_type": "execute_result"
    }
   ],
   "source": [
    "# This will be modified for GIS access\n",
    "\n",
    "df = pd.read_csv('home/data.csv')\n",
    "df.head()"
   ]
  },
  {
   "cell_type": "markdown",
   "id": "b663610e",
   "metadata": {},
   "source": [
    "## 6. Data Cleaning "
   ]
  },
  {
   "cell_type": "markdown",
   "id": "89f33e2b",
   "metadata": {},
   "source": [
    "## 7. Descriptive Statistics"
   ]
  },
  {
   "cell_type": "code",
   "execution_count": 46,
   "id": "b7f9ca70",
   "metadata": {},
   "outputs": [
    {
     "data": {
      "text/plain": [
       "(array([0, 1, 2, 3, 4, 5, 6, 7, 8, 9]),\n",
       " [Text(0, 0, 'Madison Square Garden'),\n",
       "  Text(1, 0, 'Oracle Park'),\n",
       "  Text(2, 0, 'Barclays Center'),\n",
       "  Text(3, 0, 'Staples Center'),\n",
       "  Text(4, 0, 'Chase Center'),\n",
       "  Text(5, 0, 'Moda Center'),\n",
       "  Text(6, 0, 'Providence Park'),\n",
       "  Text(7, 0, 'Capital One Arena'),\n",
       "  Text(8, 0, 'Bell Centre'),\n",
       "  Text(9, 0, 'Lumen Field')])"
      ]
     },
     "execution_count": 46,
     "metadata": {},
     "output_type": "execute_result"
    },
    {
     "data": {
      "image/png": "[encoded data removed]",
      "text/plain": [
       "<Figure size 1440x432 with 1 Axes>"
      ]
     },
     "metadata": {
      "needs_background": "dark"
     },
     "output_type": "display_data"
    }
   ],
   "source": [
    "# Which stadium has the highest average rating? The lowest?\n",
    "ratings_by_stadium = df.groupby('stadium')['rating'].mean().sort_values(ascending=False)[:10]\n",
    "fig, ax = plt.subplots(figsize=(20, 6))\n",
    "\n",
    "ax.tick_params(axis='x', colors='white')\n",
    "ax.tick_params(axis='y', colors='white')\n",
    "ax.xaxis.label.set_color('white')\n",
    "ax.yaxis.label.set_color('white')\n",
    "ax.title.set_color('white')\n",
    "\n",
    "\n",
    "ratings_by_stadium.plot(kind='bar')\n",
    "plt.title('Five Highest Rated Stadiums by Nearby Food Options')\n",
    "plt.xlabel('Stadium')\n",
    "plt.ylabel('Rating')\n",
    "plt.xticks(rotation=0)"
   ]
  },
  {
   "cell_type": "markdown",
   "id": "01f8d5a5",
   "metadata": {},
   "source": [
    "## 8. Analysis"
   ]
  },
  {
   "cell_type": "markdown",
   "id": "ccd4dacc",
   "metadata": {},
   "source": [
    "## 9. Summary & Results"
   ]
  },
  {
   "cell_type": "markdown",
   "id": "27c1882b",
   "metadata": {},
   "source": [
    "## 10. Discussion"
   ]
  },
  {
   "cell_type": "markdown",
   "id": "6a059719",
   "metadata": {},
   "source": [
    "## 11. Conclusions & Future"
   ]
  }
 ],
 "metadata": {
  "kernelspec": {
   "display_name": "Python 3 (ipykernel)",
   "language": "python",
   "name": "python3"
  },
  "language_info": {
   "codemirror_mode": {
    "name": "ipython",
    "version": 3
   },
   "file_extension": ".py",
   "mimetype": "text/x-python",
   "name": "python",
   "nbconvert_exporter": "python",
   "pygments_lexer": "ipython3",
   "version": "3.10.0"
  }
 },
 "nbformat": 4,
 "nbformat_minor": 5
}
