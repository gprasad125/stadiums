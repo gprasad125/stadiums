{
 "cells": [
  {
   "cell_type": "markdown",
   "id": "c45bc052",
   "metadata": {},
   "source": [
    "<div style = 'font-family: Calibri, sans-serif'>\n",
    "    <h1> Analyzing Food Options Around U.S. Sports Stadiums </h1>\n",
    "</div>"
   ]
  },
  {
   "cell_type": "markdown",
   "id": "99af72c7",
   "metadata": {},
   "source": [
    "<div style = 'font-family: Calibri, sans-serif'>\n",
    "\n",
    "<strong> Gokul Prasad (A15935807)  & Aryaman Sinha (A15828821) </strong>\n",
    "    \n",
    "</div>"
   ]
  },
  {
   "cell_type": "markdown",
   "id": "025cf6c2",
   "metadata": {},
   "source": [
    "<div style = 'font-family: Calibri, sans-serif'>\n",
    "\n",
    "## 2. Questions Answered\n",
    "\n",
    "\n",
    "In this project, we look to analyze any patterns in the surrounding food options around U.S. stadiums.\n",
    "\n",
    "With our dataset, we have several lines of inquiry that we could pursue. We are interested in exploring the following questions:\n",
    "\n",
    "1. Are there “trends” as to the category of restaurants most commonly found per league?\n",
    "- We expect to find that there are regional differences (i.e., Southern cities would have more nearby places like barbecue, while coastal cities would have more seafood options) that reflect U.S. cultural differences; however, we do not expect to see league-based differences as many cities overlap between leagues (i.e., New York Jets (NFL) vs New York Knicks (NBA)).\n",
    "\n",
    "\n",
    "2. Which stadium contains the highest rated restaurants in its nearby zone?\n",
    "- We expect to find this city somewhere near a generally major U.S. cultural hub, as more diverse culinary options will likely improve the chances of finding higher amounts of well-rated restaurants. Therefore, we are expecting this to be in a NYC-based or Los-Angeles stadium, as those are the two most populous metropolitan areas in the country.\n",
    "\n",
    "3. Which league & stadium have the most diverse food options?\n",
    "- This one may be slightly trickier to answer, as we have to define what “diverse” means, but the general approach would be to use the category of restaurant,and see which league/stadium has the highest amount of unique categories. Again, like the previous question, we anticipate this to be in major U.S. cultural centers, so NYC or LA metro areas"
   ]
  },
  {
   "cell_type": "markdown",
   "id": "cac98158",
   "metadata": {},
   "source": [
    "<div style = 'font-family: Calibri, sans-serif'>\n",
    "    \n",
    "## 3. Background & Literature\n",
    "\n",
    "There has been work done previously to analyze the location of sports stadiums; however, the vast majority of this research has been about the economic causes and impacts these locations have on the nearby communities. Little substantial research has been conducted in specific to the topic of 'food options' around sporting stadiums. Nonetheless, looking at the available literature is an important step to contextualizing our work and setting a baseline.\n",
    "\n",
    "A few research publications in this vein include:\n",
    "\n",
    "#### *Localized economic impact of sports stadium construction*\n",
    "Scott Sommers, University of Richmond\n",
    "\n",
    "Here, the researcher discusses how the building of sports stadiums has a tangible economic impact on the creation and maintenance of local businesses in the surrounding area. With respect to restaurants, which is relevant to our question, the paper found that building a stadium can increase the number of nearby restaurants by nearly 10. Stadiums attract tourism and high publicity, and obviously restaurants would also benefit from this. Furthermore, we would expect to see generally high price restaurants to attract those leaving the stadium after games rather. The publication can be found [here](https://scholarship.richmond.edu/cgi/viewcontent.cgi?article=1959&context=honors-theses)\n",
    "\n",
    "#### *How Location Matters in Restaurant Success?*\n",
    "Xiangbin Yang & Jing Wang, Pacific Asian Conference on Information Systems\n",
    "\n",
    "Here, the researchers discuss how the location of a restaurant has a significant impact on its economic success. They conclude that restaurant that locate themselves in “hot” areas of high societal and cultural activity have greater success than others; while the restaurants were chosen from China, the overall conclusion should reflect in the diversity of restaurants around stadiums. The publication can be found [here](https://core.ac.uk/download/pdf/301373001.pdf).\n",
    "\n",
    "#### *Availability and marketing of food and beverages to children through sports settings: a systematic review*\n",
    "Mary-Ann Carter, R Edwards, L Signal & J Hoek, Cambridge University Press\n",
    "\n",
    "The paper provides information on the physical, economic, and political environments surrounding food and beverage sponsorship and promotion in sports settings. The authors found that food and beverage sponsorship is prevalent, particularly by unhealthy food and beverage companies, and that there is a need for healthier food options. The findings suggest that the types of food available at sports stadiums in the US should be examined to see if they align with the nutritional recommendations for children. The publication can be found [here](https://www.cambridge.org/core/journals/public-health-nutrition/article/availability-and-marketing-of-food-and-beverages-to-children-through-sports-settings-a-systematic-review/B59EEFDBA4BD3087527E5D69DB23893C).\n",
    "\n",
    "#### *Alcohol Control Policies and Practices at Professional Sports Stadiums*\n",
    "Kathleen M. Lenk, Traci L. Toomey, Darin J. Erickson, Gunna R. Kilian, Toben F. Nelson, & Lindsey E.A. Fabian, Public Health Reports\n",
    "\n",
    "This paper reveals that alcohol policies in U.S. sporting stadiums have a fairly-high level of inconsistency across the country with respect to who can serve alcohol, but many do enforce limitations on amount. While the focus is on food consumption *inside* the stadium, the results still are pertinent to our research. Specifically, we would expect to see many restaurants with tags that specify they can serve alcohol so that patrons can overcome limitations enforced by stadiums. The publication can be found [here](https://journals.sagepub.com/doi/pdf/10.1177/003335491012500508).\n"
   ]
  },
  {
   "cell_type": "markdown",
   "id": "420d8e5b",
   "metadata": {},
   "source": [
    "<div style = 'font-family: Calibri, sans-serif'>\n",
    "\n",
    "## 4. Python Modules / ArcGIS Features Used\n",
    "\n",
    "Some of the necessary Python packages we will use include:\n",
    "\n",
    "- `pandas`: \n",
    "    - We will use this package to help with data storage, cleaning, and initial visualization for summary statistics. \n",
    "- `geopandas`: \n",
    "   - Given that we have access to several latitude & longitude coordinates, we can convert our `DataFrame` variables to `geoDataFrame` ones, and use the extensive functionality within the library to create geospatial visuals. "
   ]
  },
  {
   "cell_type": "code",
   "execution_count": 2,
   "id": "56c8abb8",
   "metadata": {},
   "outputs": [],
   "source": [
    "import pandas as pd\n",
    "import matplotlib.pyplot as plt\n",
    "import matplotlib as mpl"
   ]
  },
  {
   "cell_type": "markdown",
   "id": "f281a65b",
   "metadata": {},
   "source": [
    "<div style = 'font-family: Calibri, sans-serif'>\n",
    "\n",
    "## 5. Data Sources\n",
    "    \n",
    "***1. Sports and Restaurants***\n",
    "\n",
    "Source: \n",
    "[Kaggle Source]((https://www.kaggle.com/datasets/xavier4t/sports-and-restaurants))\n",
    "\n",
    "Background: Our primary data source was sourced programatically from the Yelp API and made publicly available on Kaggle. The data is pertinent to teams/stadiums belonging to one of the five biggest U.S. sports leagues: MLB (baseball), NFL (American football), NBA (Basketball), NHL (Ice hockey), and MLS (Soccer). The radius around each stadium is specifically 3000m (1.86mi)"
   ]
  },
  {
   "cell_type": "code",
   "execution_count": 3,
   "id": "6c11fd85",
   "metadata": {},
   "outputs": [
    {
     "data": {
      "text/html": [
       "<div>\n",
       "<style scoped>\n",
       "    .dataframe tbody tr th:only-of-type {\n",
       "        vertical-align: middle;\n",
       "    }\n",
       "\n",
       "    .dataframe tbody tr th {\n",
       "        vertical-align: top;\n",
       "    }\n",
       "\n",
       "    .dataframe thead th {\n",
       "        text-align: right;\n",
       "    }\n",
       "</style>\n",
       "<table border=\"1\" class=\"dataframe\">\n",
       "  <thead>\n",
       "    <tr style=\"text-align: right;\">\n",
       "      <th></th>\n",
       "      <th>name</th>\n",
       "      <th>rating</th>\n",
       "      <th>price</th>\n",
       "      <th>categories</th>\n",
       "      <th>latitude</th>\n",
       "      <th>longitude</th>\n",
       "      <th>league</th>\n",
       "      <th>team</th>\n",
       "      <th>stadium</th>\n",
       "      <th>team_latitude</th>\n",
       "      <th>team_longitude</th>\n",
       "      <th>state</th>\n",
       "      <th>city</th>\n",
       "    </tr>\n",
       "  </thead>\n",
       "  <tbody>\n",
       "    <tr>\n",
       "      <th>0</th>\n",
       "      <td>Oriole</td>\n",
       "      <td>5.0</td>\n",
       "      <td>4.0</td>\n",
       "      <td>newamerican</td>\n",
       "      <td>41.886097</td>\n",
       "      <td>-87.644948</td>\n",
       "      <td>NBA</td>\n",
       "      <td>Chicago Bulls</td>\n",
       "      <td>United Center</td>\n",
       "      <td>41.880556</td>\n",
       "      <td>-87.674167</td>\n",
       "      <td>Illinois</td>\n",
       "      <td>Chicago</td>\n",
       "    </tr>\n",
       "    <tr>\n",
       "      <th>1</th>\n",
       "      <td>Spinning J Bakery and Soda Fountain</td>\n",
       "      <td>4.5</td>\n",
       "      <td>2.0</td>\n",
       "      <td>coffee, breakfast_brunch, sandwiches</td>\n",
       "      <td>41.899450</td>\n",
       "      <td>-87.697160</td>\n",
       "      <td>NBA</td>\n",
       "      <td>Chicago Bulls</td>\n",
       "      <td>United Center</td>\n",
       "      <td>41.880556</td>\n",
       "      <td>-87.674167</td>\n",
       "      <td>Illinois</td>\n",
       "      <td>Chicago</td>\n",
       "    </tr>\n",
       "    <tr>\n",
       "      <th>2</th>\n",
       "      <td>S.K.Y.</td>\n",
       "      <td>4.5</td>\n",
       "      <td>3.0</td>\n",
       "      <td>newamerican, cocktailbars, wine_bars</td>\n",
       "      <td>41.857808</td>\n",
       "      <td>-87.658043</td>\n",
       "      <td>NBA</td>\n",
       "      <td>Chicago Bulls</td>\n",
       "      <td>United Center</td>\n",
       "      <td>41.880556</td>\n",
       "      <td>-87.674167</td>\n",
       "      <td>Illinois</td>\n",
       "      <td>Chicago</td>\n",
       "    </tr>\n",
       "    <tr>\n",
       "      <th>3</th>\n",
       "      <td>Kai Zan</td>\n",
       "      <td>4.5</td>\n",
       "      <td>3.0</td>\n",
       "      <td>asianfusion, japanese, sushi</td>\n",
       "      <td>41.895505</td>\n",
       "      <td>-87.691541</td>\n",
       "      <td>NBA</td>\n",
       "      <td>Chicago Bulls</td>\n",
       "      <td>United Center</td>\n",
       "      <td>41.880556</td>\n",
       "      <td>-87.674167</td>\n",
       "      <td>Illinois</td>\n",
       "      <td>Chicago</td>\n",
       "    </tr>\n",
       "    <tr>\n",
       "      <th>4</th>\n",
       "      <td>Sabroso! Mexican Grill</td>\n",
       "      <td>4.5</td>\n",
       "      <td>2.0</td>\n",
       "      <td>mexican, breakfast_brunch, newmexican</td>\n",
       "      <td>41.893190</td>\n",
       "      <td>-87.667530</td>\n",
       "      <td>NBA</td>\n",
       "      <td>Chicago Bulls</td>\n",
       "      <td>United Center</td>\n",
       "      <td>41.880556</td>\n",
       "      <td>-87.674167</td>\n",
       "      <td>Illinois</td>\n",
       "      <td>Chicago</td>\n",
       "    </tr>\n",
       "  </tbody>\n",
       "</table>\n",
       "</div>"
      ],
      "text/plain": [
       "                                  name  rating  price  \\\n",
       "0                               Oriole     5.0    4.0   \n",
       "1  Spinning J Bakery and Soda Fountain     4.5    2.0   \n",
       "2                               S.K.Y.     4.5    3.0   \n",
       "3                              Kai Zan     4.5    3.0   \n",
       "4               Sabroso! Mexican Grill     4.5    2.0   \n",
       "\n",
       "                              categories   latitude  longitude league  \\\n",
       "0                            newamerican  41.886097 -87.644948    NBA   \n",
       "1   coffee, breakfast_brunch, sandwiches  41.899450 -87.697160    NBA   \n",
       "2   newamerican, cocktailbars, wine_bars  41.857808 -87.658043    NBA   \n",
       "3           asianfusion, japanese, sushi  41.895505 -87.691541    NBA   \n",
       "4  mexican, breakfast_brunch, newmexican  41.893190 -87.667530    NBA   \n",
       "\n",
       "            team        stadium  team_latitude  team_longitude     state  \\\n",
       "0  Chicago Bulls  United Center      41.880556      -87.674167  Illinois   \n",
       "1  Chicago Bulls  United Center      41.880556      -87.674167  Illinois   \n",
       "2  Chicago Bulls  United Center      41.880556      -87.674167  Illinois   \n",
       "3  Chicago Bulls  United Center      41.880556      -87.674167  Illinois   \n",
       "4  Chicago Bulls  United Center      41.880556      -87.674167  Illinois   \n",
       "\n",
       "      city  \n",
       "0  Chicago  \n",
       "1  Chicago  \n",
       "2  Chicago  \n",
       "3  Chicago  \n",
       "4  Chicago  "
      ]
     },
     "execution_count": 3,
     "metadata": {},
     "output_type": "execute_result"
    }
   ],
   "source": [
    "# This will be modified for GIS access\n",
    "\n",
    "df = pd.read_csv('../data/restaurants.csv')\n",
    "df.head()"
   ]
  },
  {
   "cell_type": "markdown",
   "id": "b663610e",
   "metadata": {},
   "source": [
    "<div style = 'font-family: Calibri, sans-serif'>\n",
    "\n",
    "## 6. Data Cleaning "
   ]
  },
  {
   "cell_type": "markdown",
   "id": "89f33e2b",
   "metadata": {},
   "source": [
    "<div style = 'font-family: Calibri, sans-serif'>\n",
    "\n",
    "## 7. Descriptive Statistics"
   ]
  },
  {
   "cell_type": "markdown",
   "id": "01f8d5a5",
   "metadata": {},
   "source": [
    "## 8. Analysis"
   ]
  },
  {
   "cell_type": "markdown",
   "id": "ccd4dacc",
   "metadata": {},
   "source": [
    "## 9. Summary & Results"
   ]
  },
  {
   "cell_type": "markdown",
   "id": "27c1882b",
   "metadata": {},
   "source": [
    "## 10. Discussion"
   ]
  },
  {
   "cell_type": "markdown",
   "id": "6a059719",
   "metadata": {},
   "source": [
    "## 11. Conclusions & Future"
   ]
  }
 ],
 "metadata": {
  "kernelspec": {
   "display_name": "Python 3 (ipykernel)",
   "language": "python",
   "name": "python3"
  },
  "language_info": {
   "codemirror_mode": {
    "name": "ipython",
    "version": 3
   },
   "file_extension": ".py",
   "mimetype": "text/x-python",
   "name": "python",
   "nbconvert_exporter": "python",
   "pygments_lexer": "ipython3",
   "version": "3.10.0"
  }
 },
 "nbformat": 4,
 "nbformat_minor": 5
}
